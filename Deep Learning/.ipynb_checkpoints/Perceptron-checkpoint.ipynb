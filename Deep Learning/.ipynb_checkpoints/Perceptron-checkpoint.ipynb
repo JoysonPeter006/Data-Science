{
 "cells": [
  {
   "cell_type": "code",
   "execution_count": 1,
   "id": "bc546d4c",
   "metadata": {},
   "outputs": [],
   "source": [
    "# imports\n",
    "\n",
    "from sklearn.linear_model import Perceptron"
   ]
  },
  {
   "cell_type": "code",
   "execution_count": 2,
   "id": "18ff8c9a",
   "metadata": {},
   "outputs": [],
   "source": [
    "# creating datasets\n",
    "\n",
    "x = [[1, 0], [1, 1], [2, 0]]\n",
    "y = ['boy', 'girl', 'boy']"
   ]
  },
  {
   "cell_type": "code",
   "execution_count": 3,
   "id": "961f0cff",
   "metadata": {},
   "outputs": [],
   "source": [
    "# building Perceptron model\n",
    "\n",
    "ml = Perceptron()"
   ]
  },
  {
   "cell_type": "code",
   "execution_count": 4,
   "id": "a5ac56f5",
   "metadata": {},
   "outputs": [],
   "source": [
    "# fitting data onto the model\n",
    "\n",
    "ml = ml.fit(x, y)"
   ]
  },
  {
   "cell_type": "code",
   "execution_count": 12,
   "id": "679123c9",
   "metadata": {},
   "outputs": [
    {
     "name": "stdout",
     "output_type": "stream",
     "text": [
      "['boy' 'girl']\n"
     ]
    }
   ],
   "source": [
    "# making predictions\n",
    "\n",
    "predictions = ml.predict([[1,0], [1, 5]]) # [1, 5] is not in dataset\n",
    "print(predictions)"
   ]
  }
 ],
 "metadata": {
  "kernelspec": {
   "display_name": "Python 3",
   "language": "python",
   "name": "python3"
  },
  "language_info": {
   "codemirror_mode": {
    "name": "ipython",
    "version": 3
   },
   "file_extension": ".py",
   "mimetype": "text/x-python",
   "name": "python",
   "nbconvert_exporter": "python",
   "pygments_lexer": "ipython3",
   "version": "3.8.8"
  }
 },
 "nbformat": 4,
 "nbformat_minor": 5
}
