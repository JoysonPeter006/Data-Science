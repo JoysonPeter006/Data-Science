{
 "cells": [
  {
   "cell_type": "code",
   "execution_count": 2,
   "id": "5e816666",
   "metadata": {},
   "outputs": [],
   "source": [
    "# imports\n",
    "\n",
    "from sklearn.neural_network import MLPClassifier"
   ]
  },
  {
   "cell_type": "code",
   "execution_count": 3,
   "id": "267dc140",
   "metadata": {},
   "outputs": [],
   "source": [
    "# creating datasets\n",
    "\n",
    "x = [[1, 0], [1, 1], [2, 0]]\n",
    "y = ['boy', 'girl', 'boy']"
   ]
  },
  {
   "cell_type": "code",
   "execution_count": 4,
   "id": "d92873db",
   "metadata": {},
   "outputs": [],
   "source": [
    "# building Perceptron model\n",
    "\n",
    "ml = MLPClassifier(hidden_layer_sizes = (10), activation = 'relu')"
   ]
  },
  {
   "cell_type": "code",
   "execution_count": 5,
   "id": "dc677ede",
   "metadata": {},
   "outputs": [
    {
     "name": "stderr",
     "output_type": "stream",
     "text": [
      "C:\\Users\\Administrator\\Anaconda3\\lib\\site-packages\\sklearn\\neural_network\\_multilayer_perceptron.py:614: ConvergenceWarning: Stochastic Optimizer: Maximum iterations (200) reached and the optimization hasn't converged yet.\n",
      "  warnings.warn(\n"
     ]
    }
   ],
   "source": [
    "# fitting data onto the model\n",
    "\n",
    "ml = ml.fit(x, y)"
   ]
  },
  {
   "cell_type": "code",
   "execution_count": 6,
   "id": "affff569",
   "metadata": {},
   "outputs": [
    {
     "name": "stdout",
     "output_type": "stream",
     "text": [
      "['boy' 'girl']\n"
     ]
    }
   ],
   "source": [
    "# making predictions\n",
    "\n",
    "predictions = ml.predict([[1,0], [1, 5]]) # [1, 5] is not in dataset\n",
    "print(predictions)"
   ]
  }
 ],
 "metadata": {
  "kernelspec": {
   "display_name": "Python 3",
   "language": "python",
   "name": "python3"
  },
  "language_info": {
   "codemirror_mode": {
    "name": "ipython",
    "version": 3
   },
   "file_extension": ".py",
   "mimetype": "text/x-python",
   "name": "python",
   "nbconvert_exporter": "python",
   "pygments_lexer": "ipython3",
   "version": "3.8.8"
  }
 },
 "nbformat": 4,
 "nbformat_minor": 5
}
