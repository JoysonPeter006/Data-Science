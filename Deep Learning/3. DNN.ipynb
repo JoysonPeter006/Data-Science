{
 "cells": [
  {
   "cell_type": "code",
   "execution_count": 71,
   "id": "5cd51155",
   "metadata": {},
   "outputs": [],
   "source": [
    "# libraries\n",
    "\n",
    "import tensorflow as tf\n",
    "from sklearn.datasets import load_iris\n",
    "from sklearn.model_selection import train_test_split\n",
    "from tensorflow import keras"
   ]
  },
  {
   "cell_type": "code",
   "execution_count": 72,
   "id": "4e91768f",
   "metadata": {},
   "outputs": [],
   "source": [
    "# loading iris data\n",
    "\n",
    "iris = load_iris()\n",
    "x = iris.data\n",
    "y = iris.target"
   ]
  },
  {
   "cell_type": "code",
   "execution_count": 73,
   "id": "116e8fda",
   "metadata": {},
   "outputs": [],
   "source": [
    "# splitting data\n",
    "\n",
    "x_train, x_test, y_train, y_test = train_test_split(x, y, test_size = 0.3, random_state = 1)"
   ]
  },
  {
   "cell_type": "code",
   "execution_count": 74,
   "id": "74153338",
   "metadata": {},
   "outputs": [],
   "source": [
    "# creating model\n",
    "\n",
    "ml = keras.models.Sequential()"
   ]
  },
  {
   "cell_type": "code",
   "execution_count": 75,
   "id": "37edf492",
   "metadata": {
    "scrolled": true
   },
   "outputs": [
    {
     "name": "stdout",
     "output_type": "stream",
     "text": [
      "Model: \"sequential_13\"\n",
      "_________________________________________________________________\n",
      " Layer (type)                Output Shape              Param #   \n",
      "=================================================================\n",
      " dense_30 (Dense)            (None, 2)                 10        \n",
      "                                                                 \n",
      " dense_31 (Dense)            (None, 3)                 9         \n",
      "                                                                 \n",
      " dense_32 (Dense)            (None, 3)                 12        \n",
      "                                                                 \n",
      "=================================================================\n",
      "Total params: 31\n",
      "Trainable params: 31\n",
      "Non-trainable params: 0\n",
      "_________________________________________________________________\n"
     ]
    }
   ],
   "source": [
    "# creating layers in neural network\n",
    "\n",
    "ml.add(keras.layers.Dense(units = 2, activation = 'relu', input_shape = (4,)))\n",
    "ml.add(keras.layers.Dense(units = 3, activation = 'relu'))\n",
    "ml.add(keras.layers.Dense(units = 3, activation = 'sigmoid'))\n",
    "\n",
    "# summary of the layers\n",
    "ml.summary()"
   ]
  },
  {
   "cell_type": "code",
   "execution_count": 76,
   "id": "92f100f3",
   "metadata": {},
   "outputs": [],
   "source": [
    "# Once you have constructed a model in Keras, the model needs to be compiled before you can fit it to data. \n",
    "# This means that you need to specify the optimizer that will be used to fit the model and the loss function that will be used in optimization. \n",
    "# Optionally, you can also specify a list of metrics that the model will keep track of.\n",
    "\n",
    "ml.compile(loss = 'sparse_categorical_crossentropy', optimizer = 'adam', metrics = ['accuracy'])"
   ]
  },
  {
   "cell_type": "code",
   "execution_count": 77,
   "id": "faa24ad9",
   "metadata": {},
   "outputs": [
    {
     "name": "stdout",
     "output_type": "stream",
     "text": [
      "4/4 [==============================] - 2s 4ms/step - loss: 0.9510 - accuracy: 0.4476\n"
     ]
    },
    {
     "data": {
      "text/plain": [
       "<keras.callbacks.History at 0x1f97e909cc0>"
      ]
     },
     "execution_count": 77,
     "metadata": {},
     "output_type": "execute_result"
    }
   ],
   "source": [
    "# fitting data\n",
    "\n",
    "ml.fit(x_train, y_train)"
   ]
  },
  {
   "cell_type": "code",
   "execution_count": 78,
   "id": "17b6f2ab",
   "metadata": {},
   "outputs": [
    {
     "name": "stdout",
     "output_type": "stream",
     "text": [
      "2/2 [==============================] - 1s 19ms/step - loss: 0.9476 - accuracy: 0.6000\n",
      "Test loss, accuracy = (0.9475957155227661, 0.6000000238418579)\n"
     ]
    }
   ],
   "source": [
    "# test_loss & test_accuracy\n",
    "\n",
    "test_loss, test_accuracy = ml.evaluate(x_test, y_test)\n",
    "print(f'Test loss, accuracy = {test_loss, test_accuracy}')"
   ]
  }
 ],
 "metadata": {
  "kernelspec": {
   "display_name": "Python 3",
   "language": "python",
   "name": "python3"
  },
  "language_info": {
   "codemirror_mode": {
    "name": "ipython",
    "version": 3
   },
   "file_extension": ".py",
   "mimetype": "text/x-python",
   "name": "python",
   "nbconvert_exporter": "python",
   "pygments_lexer": "ipython3",
   "version": "3.10.2"
  }
 },
 "nbformat": 4,
 "nbformat_minor": 5
}
