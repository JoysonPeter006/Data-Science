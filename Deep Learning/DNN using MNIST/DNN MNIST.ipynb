{
 "cells": [
  {
   "cell_type": "code",
   "execution_count": 1,
   "metadata": {
    "colab": {
     "base_uri": "https://localhost:8080/"
    },
    "id": "vqbvOR0t2j5o",
    "outputId": "94f74ad9-c8a2-4a87-bae0-afc71af29c66"
   },
   "outputs": [],
   "source": [
    "import tensorflow as tf\n",
    "import matplotlib.pyplot as plt\n",
    "from tensorflow import keras"
   ]
  },
  {
   "cell_type": "code",
   "execution_count": 2,
   "metadata": {},
   "outputs": [],
   "source": [
    "mnistDB = keras.datasets.mnist\n",
    "(x_train,y_train),(x_test,y_test) = mnistDB.load_data()"
   ]
  },
  {
   "cell_type": "code",
   "execution_count": 3,
   "metadata": {
    "colab": {
     "base_uri": "https://localhost:8080/"
    },
    "id": "ZL97dH7f3Q61",
    "outputId": "bc6d321f-4e24-4418-8b69-caff89c8f6d0"
   },
   "outputs": [
    {
     "name": "stdout",
     "output_type": "stream",
     "text": [
      "Model: \"sequential\"\n",
      "_________________________________________________________________\n",
      " Layer (type)                Output Shape              Param #   \n",
      "=================================================================\n",
      " dense (Dense)               (None, 50)                39250     \n",
      "                                                                 \n",
      " dense_1 (Dense)             (None, 100)               5100      \n",
      "                                                                 \n",
      " dense_2 (Dense)             (None, 70)                7070      \n",
      "                                                                 \n",
      " dense_3 (Dense)             (None, 10)                710       \n",
      "                                                                 \n",
      "=================================================================\n",
      "Total params: 52,130\n",
      "Trainable params: 52,130\n",
      "Non-trainable params: 0\n",
      "_________________________________________________________________\n"
     ]
    }
   ],
   "source": [
    "#Reshape Data\n",
    "x_train = x_train.reshape(60000,28*28)\n",
    "x_test = x_test.reshape(10000,28*28)\n",
    "\n",
    "#Normalizing the data\n",
    "x_train = x_train.astype('float32')/255\n",
    "x_test = x_test.astype('float32')/255\n",
    "\n",
    "#Deep Learning Model\n",
    "ML = keras.models.Sequential()\n",
    "\n",
    "#Create Hidden layer 1 and input layer\n",
    "ML.add(keras.layers.Dense(units = 50, activation = 'relu', input_shape = x_train.shape[1:]))\n",
    "#Hidden layer 2\n",
    "ML.add(keras.layers.Dense(units = 100, activation = 'relu'))\n",
    "#Hidden layer\n",
    "ML.add(keras.layers.Dense(units = 70, activation = 'relu'))\n",
    "#Output layer\n",
    "ML.add(keras.layers.Dense(units = 10, activation = 'softmax'))\n",
    "\n",
    "#Summary of parameters of DNN\n",
    "ML.summary()"
   ]
  },
  {
   "cell_type": "code",
   "execution_count": 4,
   "metadata": {
    "colab": {
     "base_uri": "https://localhost:8080/",
     "height": 376
    },
    "id": "wVijcPST5-aM",
    "outputId": "f4dfd9f1-8a08-4e07-b308-715b83d22a90"
   },
   "outputs": [
    {
     "name": "stdout",
     "output_type": "stream",
     "text": [
      "3750/3750 [==============================] - 5s 1ms/step - loss: 0.2550 - accuracy: 0.9227\n",
      "313/313 [==============================] - 0s 1ms/step - loss: 0.1404 - accuracy: 0.9564\n"
     ]
    },
    {
     "name": "stderr",
     "output_type": "stream",
     "text": [
      "C:\\Users\\Administrator\\Anaconda3\\lib\\site-packages\\keras_preprocessing\\image\\utils.py:107: UserWarning: grayscale is deprecated. Please use color_mode = \"grayscale\"\n",
      "  warnings.warn('grayscale is deprecated. Please use '\n"
     ]
    },
    {
     "data": {
      "text/plain": [
       "<matplotlib.image.AxesImage at 0x1b82ffcd250>"
      ]
     },
     "execution_count": 4,
     "metadata": {},
     "output_type": "execute_result"
    },
    {
     "data": {
      "image/png": "[encoded data removed]",
      "text/plain": [
       "<Figure size 432x288 with 1 Axes>"
      ]
     },
     "metadata": {
      "needs_background": "light"
     },
     "output_type": "display_data"
    }
   ],
   "source": [
    "#Compile model\n",
    "ML.compile(loss = 'sparse_categorical_crossentropy', optimizer = 'adam', metrics = ['accuracy'])\n",
    "ML.fit(x_train, y_train, epochs = 1, batch_size = 16)\n",
    "test_loss, test_acc = ML.evaluate(x_test, y_test)\n",
    "\n",
    "#Handwritten digit recognition\n",
    "from keras.preprocessing.image import load_img\n",
    "from keras.preprocessing.image import img_to_array\n",
    "from keras.models import load_model\n",
    "img = load_img('sample_image.png', grayscale = True, target_size = (28,28))\n",
    "plt.imshow(img)"
   ]
  },
  {
   "cell_type": "code",
   "execution_count": 5,
   "metadata": {
    "colab": {
     "base_uri": "https://localhost:8080/"
    },
    "id": "3P9j0eel8RWH",
    "outputId": "97672f59-fb0f-47cc-f823-9e84784b80ca"
   },
   "outputs": [
    {
     "name": "stdout",
     "output_type": "stream",
     "text": [
      "Digit is [2.0267478e-04 2.0012098e-05 1.9739566e-03 1.2970183e-03 1.8465146e-07\n",
      " 2.0110110e-05 3.5472911e-09 9.9622983e-01 7.7562407e-05 1.7863126e-04]\n"
     ]
    }
   ],
   "source": [
    "#Convert to array\n",
    "img = img_to_array(img)\n",
    "\n",
    "#Reshape into a single sample with 1 channel\n",
    "img = img.reshape(1,28*28)\n",
    "\n",
    "#Prepare pixel data\n",
    "img = img.astype('float32')/255.0\n",
    "digit = ML.predict(img)\n",
    "\n",
    "print(f'Digit is {digit[0]}')"
   ]
  }
 ],
 "metadata": {
  "colab": {
   "name": "DNN-Tensor-2.ipynb",
   "provenance": []
  },
  "kernelspec": {
   "display_name": "Python 3",
   "language": "python",
   "name": "python3"
  },
  "language_info": {
   "codemirror_mode": {
    "name": "ipython",
    "version": 3
   },
   "file_extension": ".py",
   "mimetype": "text/x-python",
   "name": "python",
   "nbconvert_exporter": "python",
   "pygments_lexer": "ipython3",
   "version": "3.8.8"
  }
 },
 "nbformat": 4,
 "nbformat_minor": 1
}
