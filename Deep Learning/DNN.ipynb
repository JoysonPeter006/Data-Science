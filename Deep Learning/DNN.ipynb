{
 "cells": [
  {
   "cell_type": "code",
   "execution_count": 37,
   "id": "5cd51155",
   "metadata": {},
   "outputs": [],
   "source": [
    "# libraries\n",
    "\n",
    "import tensorflow as tf\n",
    "from sklearn.datasets import load_iris\n",
    "from sklearn.model_selection import train_test_split\n",
    "from tensorflow import keras"
   ]
  },
  {
   "cell_type": "code",
   "execution_count": 38,
   "id": "4e91768f",
   "metadata": {},
   "outputs": [],
   "source": [
    "# loading iris data\n",
    "\n",
    "iris = load_iris()\n",
    "x = iris.data\n",
    "y = iris.target"
   ]
  },
  {
   "cell_type": "code",
   "execution_count": 39,
   "id": "116e8fda",
   "metadata": {},
   "outputs": [],
   "source": [
    "# splitting data\n",
    "\n",
    "x_train, x_test, y_train, y_test = train_test_split(x, y, test_size = 0.3, random_state = 1)"
   ]
  },
  {
   "cell_type": "code",
   "execution_count": 40,
   "id": "74153338",
   "metadata": {},
   "outputs": [],
   "source": [
    "# creating model\n",
    "\n",
    "ml = keras.models.Sequential()"
   ]
  },
  {
   "cell_type": "code",
   "execution_count": 41,
   "id": "37edf492",
   "metadata": {
    "scrolled": true
   },
   "outputs": [
    {
     "name": "stdout",
     "output_type": "stream",
     "text": [
      "Model: \"sequential_7\"\n",
      "_________________________________________________________________\n",
      " Layer (type)                Output Shape              Param #   \n",
      "=================================================================\n",
      " dense_9 (Dense)             (None, 2)                 10        \n",
      "                                                                 \n",
      " dense_10 (Dense)            (None, 3)                 9         \n",
      "                                                                 \n",
      " dense_11 (Dense)            (None, 3)                 12        \n",
      "                                                                 \n",
      "=================================================================\n",
      "Total params: 31\n",
      "Trainable params: 31\n",
      "Non-trainable params: 0\n",
      "_________________________________________________________________\n",
      "4/4 [==============================] - 1s 2ms/step - loss: 1.1168 - accuracy: 0.3619\n",
      "2/2 [==============================] - 0s 4ms/step - loss: 1.1415 - accuracy: 0.3333\n",
      "Accuracy = (1.1415071487426758, 0.3333333432674408)\n"
     ]
    }
   ],
   "source": [
    "# creating layers in neural network\n",
    "\n",
    "ml.add(keras.layers.Dense(units = 2, activation = 'relu', input_shape = (4,)))\n",
    "ml.add(keras.layers.Dense(units = 3, activation = 'relu'))\n",
    "ml.add(keras.layers.Dense(units = 3, activation = 'sigmoid'))\n",
    "ml.summary()\n",
    "ml.compile(loss = 'sparse_categorical_crossentropy', optimizer = 'adam', metrics = ['accuracy'])\n",
    "ml.fit(x_train, y_train)\n",
    "test_loss, test_accuracy = ml.evaluate(x_test, y_test)\n",
    "print(f'Accuracy = {test_loss, test_accuracy}')"
   ]
  }
 ],
 "metadata": {
  "kernelspec": {
   "display_name": "Python 3",
   "language": "python",
   "name": "python3"
  },
  "language_info": {
   "codemirror_mode": {
    "name": "ipython",
    "version": 3
   },
   "file_extension": ".py",
   "mimetype": "text/x-python",
   "name": "python",
   "nbconvert_exporter": "python",
   "pygments_lexer": "ipython3",
   "version": "3.10.2"
  }
 },
 "nbformat": 4,
 "nbformat_minor": 5
}
