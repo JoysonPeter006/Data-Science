{
 "cells": [
  {
   "cell_type": "code",
   "execution_count": null,
   "id": "e78a1684",
   "metadata": {},
   "outputs": [],
   "source": [
    "# importing statements\n",
    "\n",
    "import numpy as np"
   ]
  },
  {
   "cell_type": "code",
   "execution_count": 3,
   "id": "cebb7aa5",
   "metadata": {},
   "outputs": [
    {
     "name": "stdout",
     "output_type": "stream",
     "text": [
      "Enter a number: 5\n",
      "Factorial of 5 : 120\n"
     ]
    }
   ],
   "source": [
    "# program to find factorial\n",
    "\n",
    "f = 1\n",
    "n = int(input(\"Enter a number: \"))\n",
    "\n",
    "for i in range(1, n + 1):\n",
    "    f = f * i\n",
    "    \n",
    "print(\"Factorial of\", n, \":\", f)"
   ]
  },
  {
   "cell_type": "code",
   "execution_count": null,
   "id": "96d4b5f3",
   "metadata": {},
   "outputs": [],
   "source": [
    "# program to check if number is palindrome\n",
    "\n",
    "n = input(\"Enter a number: \")\n",
    "\n",
    "rev = n[::-1]\n",
    "\n",
    "if int(n) == int(rev):\n",
    "    print(\"Palindrome\")\n",
    "else:\n",
    "    print(\"Not Palindrome\")"
   ]
  },
  {
   "cell_type": "code",
   "execution_count": null,
   "id": "1d27aba1",
   "metadata": {},
   "outputs": [],
   "source": [
    "# implement numpy\n",
    "\n",
    "arr = np.array([1, 2, 3, 4])\n",
    "print(arr)"
   ]
  }
 ],
 "metadata": {
  "kernelspec": {
   "display_name": "Python 3",
   "language": "python",
   "name": "python3"
  },
  "language_info": {
   "codemirror_mode": {
    "name": "ipython",
    "version": 3
   },
   "file_extension": ".py",
   "mimetype": "text/x-python",
   "name": "python",
   "nbconvert_exporter": "python",
   "pygments_lexer": "ipython3",
   "version": "3.8.8"
  }
 },
 "nbformat": 4,
 "nbformat_minor": 5
}
