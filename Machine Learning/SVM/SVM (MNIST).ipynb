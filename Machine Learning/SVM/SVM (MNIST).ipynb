{
 "cells": [
  {
   "cell_type": "code",
   "execution_count": 4,
   "id": "d8bdddb1",
   "metadata": {},
   "outputs": [],
   "source": [
    "# loading data\n",
    "\n",
    "import pandas as pd\n",
    "train_data = pd.read_csv(\"../Datasets/MNIST/train.csv\")\n",
    "test_data = pd.read_csv(\"../Datasets/MNIST/test.csv\")"
   ]
  },
  {
   "cell_type": "code",
   "execution_count": 9,
   "id": "2167ef1a",
   "metadata": {},
   "outputs": [
    {
     "data": {
      "text/plain": [
       "Text(0.5, 1.0, 'Digit 4')"
      ]
     },
     "execution_count": 9,
     "metadata": {},
     "output_type": "execute_result"
    },
    {
     "data": {
      "image/png": "[encoded data removed]",
      "text/plain": [
       "<Figure size 432x288 with 1 Axes>"
      ]
     },
     "metadata": {
      "needs_background": "light"
     },
     "output_type": "display_data"
    }
   ],
   "source": [
    "# sample image\n",
    "\n",
    "four = train_data.iloc[2, 1:]\n",
    "four.shape\n",
    "four = four.values.reshape(28,28)\n",
    "plt.imshow(four, cmap='gray')\n",
    "plt.title(\"Digit 4\")"
   ]
  },
  {
   "cell_type": "code",
   "execution_count": 10,
   "id": "b37ab2a2",
   "metadata": {},
   "outputs": [
    {
     "name": "stdout",
     "output_type": "stream",
     "text": [
      "(60000, 785)\n"
     ]
    }
   ],
   "source": [
    "## Separating the X and Y variable\n",
    "\n",
    "y = train_data['label']\n",
    "\n",
    "## Dropping the variable 'label' from X variable \n",
    "X = train_data.drop(columns = 'label')\n",
    "\n",
    "## Printing the size of data \n",
    "print(train_data.shape)"
   ]
  },
  {
   "cell_type": "code",
   "execution_count": 11,
   "id": "9e96d1fe",
   "metadata": {},
   "outputs": [
    {
     "name": "stdout",
     "output_type": "stream",
     "text": [
      "X: (60000, 784)\n",
      "test_data: (10000, 785)\n"
     ]
    }
   ],
   "source": [
    "## Normalization\n",
    "\n",
    "X = X/255.0\n",
    "test_data = test_data/255.0\n",
    "\n",
    "print(\"X:\", X.shape)\n",
    "print(\"test_data:\", test_data.shape)"
   ]
  },
  {
   "cell_type": "code",
   "execution_count": 14,
   "id": "3604bbdb",
   "metadata": {},
   "outputs": [],
   "source": [
    "# scaling the features\n",
    "from sklearn.preprocessing import scale\n",
    "from sklearn.model_selection import train_test_split\n",
    "X_scaled = scale(X)\n",
    "\n",
    "# train test split\n",
    "X_train, X_test, y_train, y_test = train_test_split(X_scaled, y, test_size = 0.3, train_size = 0.2 ,random_state = 10)"
   ]
  },
  {
   "cell_type": "code",
   "execution_count": 16,
   "id": "ecf76102",
   "metadata": {},
   "outputs": [],
   "source": [
    "# linear model\n",
    "from sklearn.svm import SVC\n",
    "\n",
    "model_linear = SVC(kernel='linear')\n",
    "model_linear.fit(X_train, y_train)\n",
    "\n",
    "# predict\n",
    "y_pred = model_linear.predict(X_test)"
   ]
  },
  {
   "cell_type": "code",
   "execution_count": 17,
   "id": "9edaf527",
   "metadata": {},
   "outputs": [
    {
     "name": "stdout",
     "output_type": "stream",
     "text": [
      "accuracy: 0.9103333333333333 \n",
      "\n",
      "[[1719    0   10    5    3   16   12    1    6    0]\n",
      " [   1 1951   11    5    5    4    0    3   11    1]\n",
      " [  11   26 1676   30   23    5   23   19   17    1]\n",
      " [  10    4   47 1627    4   66    5   19   42   10]\n",
      " [   4    8   21    1 1658    5   14    6    5   50]\n",
      " [  21    9   19   87   12 1423   30    1   39   11]\n",
      " [  20    7   23    1   14   20 1666    2    4    0]\n",
      " [   7   13   19   16   31    4    2 1774    5   93]\n",
      " [  25   44   49   54   12   58   18   11 1436   17]\n",
      " [   4   11   19   23   90    9    1   69   20 1456]]\n"
     ]
    }
   ],
   "source": [
    "# confusion matrix and accuracy\n",
    "\n",
    "from sklearn import metrics\n",
    "from sklearn.metrics import confusion_matrix\n",
    "# accuracy\n",
    "print(\"accuracy:\", metrics.accuracy_score(y_true=y_test, y_pred=y_pred), \"\\n\")\n",
    "\n",
    "# cm\n",
    "print(metrics.confusion_matrix(y_true=y_test, y_pred=y_pred))"
   ]
  },
  {
   "cell_type": "code",
   "execution_count": 18,
   "id": "d3245349",
   "metadata": {},
   "outputs": [],
   "source": [
    "# non-linear model\n",
    "# using rbf kernel, C=1, default value of gamma\n",
    "\n",
    "# model\n",
    "non_linear_model = SVC(kernel='rbf')\n",
    "\n",
    "# fit\n",
    "non_linear_model.fit(X_train, y_train)\n",
    "\n",
    "# predict\n",
    "y_pred = non_linear_model.predict(X_test)"
   ]
  },
  {
   "cell_type": "code",
   "execution_count": 19,
   "id": "6aa2f18b",
   "metadata": {},
   "outputs": [
    {
     "name": "stdout",
     "output_type": "stream",
     "text": [
      "accuracy: 0.943 \n",
      "\n",
      "[[1722    0   15    4    1    6   13    2    8    1]\n",
      " [   1 1947   21    7    5    0    1    2    7    1]\n",
      " [   5    6 1747   11   12    3   14   16   14    3]\n",
      " [   2    3   52 1685    1   37    2   21   26    5]\n",
      " [   1    5   31    1 1664    5    9    7    4   45]\n",
      " [   3    5   28   33    3 1526   27    5   15    7]\n",
      " [   8    4   21    0    4   14 1698    1    7    0]\n",
      " [   3   11   52    7   14    0    0 1828    2   47]\n",
      " [  10   22   32   18    9   26   11    5 1585    6]\n",
      " [   3    5   25   17   23    4    0   38   15 1572]]\n"
     ]
    }
   ],
   "source": [
    "# confusion matrix and accuracy\n",
    "\n",
    "# accuracy\n",
    "print(\"accuracy:\", metrics.accuracy_score(y_true=y_test, y_pred=y_pred), \"\\n\")\n",
    "\n",
    "# cm\n",
    "print(metrics.confusion_matrix(y_true=y_test, y_pred=y_pred))"
   ]
  }
 ],
 "metadata": {
  "kernelspec": {
   "display_name": "Python 3",
   "language": "python",
   "name": "python3"
  },
  "language_info": {
   "codemirror_mode": {
    "name": "ipython",
    "version": 3
   },
   "file_extension": ".py",
   "mimetype": "text/x-python",
   "name": "python",
   "nbconvert_exporter": "python",
   "pygments_lexer": "ipython3",
   "version": "3.8.8"
  }
 },
 "nbformat": 4,
 "nbformat_minor": 5
}
